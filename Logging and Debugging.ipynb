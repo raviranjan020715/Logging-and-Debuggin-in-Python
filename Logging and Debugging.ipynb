{
 "cells": [
  {
   "cell_type": "code",
   "execution_count": 4,
   "id": "1cf41655",
   "metadata": {},
   "outputs": [],
   "source": [
    "import logging as lg\n",
    "import os\n",
    "\n",
    "os.mkdir('logging')\n",
    "os.chdir(os.getcwd() + '/' + 'logging')\n",
    "\n",
    "lg.basicConfig(filename = 'test.log', level = lg.INFO, format = '%(asctime)s %(message)s') #time date format\n",
    "lg.info('I am starting my log!')\n"
   ]
  },
  {
   "cell_type": "code",
   "execution_count": 5,
   "id": "29635b2c",
   "metadata": {},
   "outputs": [],
   "source": [
    "lg.warning('This is my first warning!')"
   ]
  },
  {
   "cell_type": "code",
   "execution_count": 6,
   "id": "8374eeb6",
   "metadata": {},
   "outputs": [],
   "source": [
    "lg.error('This is an error message!')"
   ]
  },
  {
   "cell_type": "code",
   "execution_count": 9,
   "id": "18230eaa",
   "metadata": {},
   "outputs": [],
   "source": [
    "#exception handling\n",
    "def test(a, b):\n",
    "    \n",
    "    try:\n",
    "        lg.info(str(a) + str(b))\n",
    "        div = a/b\n",
    "        return div\n",
    "    \n",
    "    except Exception as e:\n",
    "        print('Your code has failed!')\n",
    "        lg.error('Error has occured!')\n",
    "        lg.exception(str(e))\n"
   ]
  },
  {
   "cell_type": "code",
   "execution_count": 10,
   "id": "7419f4de",
   "metadata": {},
   "outputs": [
    {
     "name": "stdout",
     "output_type": "stream",
     "text": [
      "Your code has failed!\n"
     ]
    }
   ],
   "source": [
    "test(4, 0)"
   ]
  },
  {
   "cell_type": "code",
   "execution_count": 9,
   "id": "7e4a13dc",
   "metadata": {},
   "outputs": [
    {
     "name": "stdout",
     "output_type": "stream",
     "text": [
      "Requirement already satisfied: ipdb in c:\\users\\ravi\\appdata\\roaming\\python\\python39\\site-packages (0.13.9)\n",
      "Requirement already satisfied: ipython>=7.17.0 in c:\\users\\ravi\\anaconda3\\lib\\site-packages (from ipdb) (7.29.0)\n",
      "Requirement already satisfied: decorator in c:\\users\\ravi\\anaconda3\\lib\\site-packages (from ipdb) (5.1.0)\n",
      "Requirement already satisfied: setuptools in c:\\users\\ravi\\anaconda3\\lib\\site-packages (from ipdb) (58.0.4)\n",
      "Requirement already satisfied: toml>=0.10.2 in c:\\users\\ravi\\anaconda3\\lib\\site-packages (from ipdb) (0.10.2)\n",
      "Requirement already satisfied: traitlets>=4.2 in c:\\users\\ravi\\anaconda3\\lib\\site-packages (from ipython>=7.17.0->ipdb) (5.1.0)\n",
      "Requirement already satisfied: pickleshare in c:\\users\\ravi\\anaconda3\\lib\\site-packages (from ipython>=7.17.0->ipdb) (0.7.5)\n",
      "Requirement already satisfied: jedi>=0.16 in c:\\users\\ravi\\anaconda3\\lib\\site-packages (from ipython>=7.17.0->ipdb) (0.18.0)\n",
      "Requirement already satisfied: prompt-toolkit!=3.0.0,!=3.0.1,<3.1.0,>=2.0.0 in c:\\users\\ravi\\anaconda3\\lib\\site-packages (from ipython>=7.17.0->ipdb) (3.0.20)\n",
      "Requirement already satisfied: backcall in c:\\users\\ravi\\anaconda3\\lib\\site-packages (from ipython>=7.17.0->ipdb) (0.2.0)\n",
      "Requirement already satisfied: matplotlib-inline in c:\\users\\ravi\\anaconda3\\lib\\site-packages (from ipython>=7.17.0->ipdb) (0.1.2)\n",
      "Requirement already satisfied: colorama in c:\\users\\ravi\\anaconda3\\lib\\site-packages (from ipython>=7.17.0->ipdb) (0.4.4)\n",
      "Requirement already satisfied: pygments in c:\\users\\ravi\\anaconda3\\lib\\site-packages (from ipython>=7.17.0->ipdb) (2.10.0)\n",
      "Requirement already satisfied: parso<0.9.0,>=0.8.0 in c:\\users\\ravi\\anaconda3\\lib\\site-packages (from jedi>=0.16->ipython>=7.17.0->ipdb) (0.8.2)\n",
      "Requirement already satisfied: wcwidth in c:\\users\\ravi\\anaconda3\\lib\\site-packages (from prompt-toolkit!=3.0.0,!=3.0.1,<3.1.0,>=2.0.0->ipython>=7.17.0->ipdb) (0.2.5)\n"
     ]
    }
   ],
   "source": [
    "!pip install --user ipdb\n",
    "\n"
   ]
  },
  {
   "cell_type": "code",
   "execution_count": 10,
   "id": "27cce3da",
   "metadata": {},
   "outputs": [
    {
     "name": "stdout",
     "output_type": "stream",
     "text": [
      "Collecting package metadata (current_repodata.json): ...working... done\n",
      "Solving environment: ...working... failed with initial frozen solve. Retrying with flexible solve.\n",
      "Collecting package metadata (repodata.json): ...working... done\n",
      "Solving environment: ...working... failed with initial frozen solve. Retrying with flexible solve.\n"
     ]
    },
    {
     "name": "stderr",
     "output_type": "stream",
     "text": [
      "\n",
      "PackagesNotFoundError: The following packages are not available from current channels:\n",
      "\n",
      "  - ipdb\n",
      "\n",
      "Current channels:\n",
      "\n",
      "  - https://repo.anaconda.com/pkgs/main/win-64\n",
      "  - https://repo.anaconda.com/pkgs/main/noarch\n",
      "  - https://repo.anaconda.com/pkgs/r/win-64\n",
      "  - https://repo.anaconda.com/pkgs/r/noarch\n",
      "  - https://repo.anaconda.com/pkgs/msys2/win-64\n",
      "  - https://repo.anaconda.com/pkgs/msys2/noarch\n",
      "\n",
      "To search for alternate channels that may provide the conda package you're\n",
      "looking for, navigate to\n",
      "\n",
      "    https://anaconda.org\n",
      "\n",
      "and use the search bar at the top of the page.\n",
      "\n",
      "\n"
     ]
    }
   ],
   "source": [
    "!conda install ipdb"
   ]
  },
  {
   "cell_type": "code",
   "execution_count": 11,
   "id": "80711037",
   "metadata": {},
   "outputs": [
    {
     "ename": "ModuleNotFoundError",
     "evalue": "No module named 'ipdb'",
     "output_type": "error",
     "traceback": [
      "\u001b[1;31m---------------------------------------------------------------------------\u001b[0m",
      "\u001b[1;31mModuleNotFoundError\u001b[0m                       Traceback (most recent call last)",
      "\u001b[1;32m~\\AppData\\Local\\Temp/ipykernel_8400/2330499162.py\u001b[0m in \u001b[0;36m<module>\u001b[1;34m\u001b[0m\n\u001b[1;32m----> 1\u001b[1;33m \u001b[1;32mimport\u001b[0m \u001b[0mipdb\u001b[0m\u001b[1;33m\u001b[0m\u001b[1;33m\u001b[0m\u001b[0m\n\u001b[0m\u001b[0;32m      2\u001b[0m \u001b[1;33m\u001b[0m\u001b[0m\n\u001b[0;32m      3\u001b[0m \u001b[1;32mdef\u001b[0m \u001b[0mtestbug\u001b[0m\u001b[1;33m(\u001b[0m\u001b[1;33m)\u001b[0m\u001b[1;33m:\u001b[0m\u001b[1;33m\u001b[0m\u001b[1;33m\u001b[0m\u001b[0m\n\u001b[0;32m      4\u001b[0m     \u001b[0mipdb\u001b[0m\u001b[1;33m.\u001b[0m\u001b[0mset_trace\u001b[0m\u001b[1;33m(\u001b[0m\u001b[1;33m)\u001b[0m\u001b[1;33m\u001b[0m\u001b[1;33m\u001b[0m\u001b[0m\n\u001b[0;32m      5\u001b[0m     \u001b[0ml\u001b[0m \u001b[1;33m=\u001b[0m \u001b[1;33m[\u001b[0m\u001b[1;33m]\u001b[0m\u001b[1;33m\u001b[0m\u001b[1;33m\u001b[0m\u001b[0m\n",
      "\u001b[1;31mModuleNotFoundError\u001b[0m: No module named 'ipdb'"
     ]
    }
   ],
   "source": [
    "import ipdb\n",
    "\n",
    "def testbug():\n",
    "    ipdb.set_trace()\n",
    "    l = []\n",
    "    for x in range(10):\n",
    "        l.append(x)\n",
    "    return l\n",
    "\n",
    "testbug()"
   ]
  },
  {
   "cell_type": "code",
   "execution_count": null,
   "id": "a23a0aef",
   "metadata": {},
   "outputs": [],
   "source": [
    "\n"
   ]
  },
  {
   "cell_type": "code",
   "execution_count": null,
   "id": "a7efdead",
   "metadata": {},
   "outputs": [],
   "source": []
  }
 ],
 "metadata": {
  "kernelspec": {
   "display_name": "Python 3 (ipykernel)",
   "language": "python",
   "name": "python3"
  },
  "language_info": {
   "codemirror_mode": {
    "name": "ipython",
    "version": 3
   },
   "file_extension": ".py",
   "mimetype": "text/x-python",
   "name": "python",
   "nbconvert_exporter": "python",
   "pygments_lexer": "ipython3",
   "version": "3.9.7"
  }
 },
 "nbformat": 4,
 "nbformat_minor": 5
}
